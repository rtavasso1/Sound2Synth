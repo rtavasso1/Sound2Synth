{
 "cells": [
  {
   "cell_type": "code",
   "execution_count": 7,
   "metadata": {},
   "outputs": [],
   "source": [
    "import torch\n",
    "from torchsynth.config import SynthConfig\n",
    "from dataset import chains\n",
    "\n",
    "config = SynthConfig(batch_size=1, sample_rate=48000, reproducible=False)\n",
    "synth = chains.SimpleSynth(config)\n",
    "data = torch.load('/home/ubuntu/Sound2Synth/data/SimpleSynth/train/processed/sound_0.pt')"
   ]
  },
  {
   "cell_type": "code",
   "execution_count": 20,
   "metadata": {},
   "outputs": [
    {
     "name": "stdout",
     "output_type": "stream",
     "text": [
      "tensor([ 4.8038e-01,  8.0411e-01,  7.6822e-01,  3.9141e-02,  1.9138e+00,\n",
      "         6.0000e+01,  3.0000e+00, -7.2531e+00, -5.2643e-04,  2.4909e+00,\n",
      "         6.3231e-01])\n"
     ]
    }
   ],
   "source": [
    "param, _ = data['label']\n",
    "unnormalized_param = []\n",
    "for p ,(k, v) in zip(param,synth.get_parameters().items()):\n",
    "    unnormalizer = v.parameter_range\n",
    "    unnormalized = unnormalizer.from_0to1(p)\n",
    "    unnormalized_param.append(unnormalized)\n",
    "print(torch.tensor(unnormalized_param))"
   ]
  },
  {
   "cell_type": "code",
   "execution_count": 1,
   "metadata": {},
   "outputs": [
    {
     "name": "stderr",
     "output_type": "stream",
     "text": [
      "/home/ubuntu/anaconda3/envs/sound2synth/lib/python3.9/site-packages/pl_bolts/__init__.py:11: FutureWarning: In the future `np.object` will be defined as the corresponding NumPy scalar.\n",
      "  if not hasattr(numpy, tp_name):\n",
      "/home/ubuntu/anaconda3/envs/sound2synth/lib/python3.9/site-packages/pl_bolts/__init__.py:11: FutureWarning: In the future `np.bool` will be defined as the corresponding NumPy scalar.\n",
      "  if not hasattr(numpy, tp_name):\n",
      "/home/ubuntu/anaconda3/envs/sound2synth/lib/python3.9/site-packages/pl_bolts/models/self_supervised/amdim/amdim_module.py:34: UnderReviewWarning: The feature generate_power_seq is currently marked under review. The compatibility with other Lightning projects is not guaranteed and API may change at any time. The API and functionality may change without warning in future releases. More details: https://lightning-bolts.readthedocs.io/en/latest/stability.html\n",
      "  \"lr_options\": generate_power_seq(LEARNING_RATE_CIFAR, 11),\n",
      "/home/ubuntu/anaconda3/envs/sound2synth/lib/python3.9/site-packages/pl_bolts/models/self_supervised/amdim/amdim_module.py:92: UnderReviewWarning: The feature FeatureMapContrastiveTask is currently marked under review. The compatibility with other Lightning projects is not guaranteed and API may change at any time. The API and functionality may change without warning in future releases. More details: https://lightning-bolts.readthedocs.io/en/latest/stability.html\n",
      "  contrastive_task: Union[FeatureMapContrastiveTask] = FeatureMapContrastiveTask(\"01, 02, 11\"),\n",
      "/home/ubuntu/anaconda3/envs/sound2synth/lib/python3.9/site-packages/pl_bolts/losses/self_supervised_learning.py:228: UnderReviewWarning: The feature AmdimNCELoss is currently marked under review. The compatibility with other Lightning projects is not guaranteed and API may change at any time. The API and functionality may change without warning in future releases. More details: https://lightning-bolts.readthedocs.io/en/latest/stability.html\n",
      "  self.nce_loss = AmdimNCELoss(tclip)\n"
     ]
    },
    {
     "ename": "KeyboardInterrupt",
     "evalue": "",
     "output_type": "error",
     "traceback": [
      "\u001b[0;31m---------------------------------------------------------------------------\u001b[0m",
      "\u001b[0;31mKeyboardInterrupt\u001b[0m                         Traceback (most recent call last)",
      "Cell \u001b[0;32mIn[1], line 70\u001b[0m\n\u001b[1;32m     67\u001b[0m synth \u001b[38;5;241m=\u001b[39m dataset\u001b[38;5;241m.\u001b[39msynth\n\u001b[1;32m     68\u001b[0m unnormalizer \u001b[38;5;241m=\u001b[39m dataset\u001b[38;5;241m.\u001b[39munnormalizer\n\u001b[0;32m---> 70\u001b[0m model \u001b[38;5;241m=\u001b[39m \u001b[43mload_checkpoint\u001b[49m\u001b[43m(\u001b[49m\u001b[43mcheckpoint_path\u001b[49m\u001b[43m,\u001b[49m\u001b[43m \u001b[49m\u001b[43margs\u001b[49m\u001b[43m)\u001b[49m\n\u001b[1;32m     71\u001b[0m model\u001b[38;5;241m.\u001b[39meval()\n\u001b[1;32m     73\u001b[0m dataloader \u001b[38;5;241m=\u001b[39m torch\u001b[38;5;241m.\u001b[39mutils\u001b[38;5;241m.\u001b[39mdata\u001b[38;5;241m.\u001b[39mDataLoader(dataset, batch_size\u001b[38;5;241m=\u001b[39m\u001b[38;5;241m1\u001b[39m)\n",
      "Cell \u001b[0;32mIn[1], line 19\u001b[0m, in \u001b[0;36mload_checkpoint\u001b[0;34m(checkpoint_path, args)\u001b[0m\n\u001b[1;32m     16\u001b[0m \u001b[38;5;28;01mdef\u001b[39;00m \u001b[38;5;21mload_checkpoint\u001b[39m(checkpoint_path, args):\n\u001b[1;32m     17\u001b[0m     interface \u001b[38;5;241m=\u001b[39m INTERFACE_MAPPING[args\u001b[38;5;241m.\u001b[39msynth]\n\u001b[1;32m     18\u001b[0m     net \u001b[38;5;241m=\u001b[39m Net(\n\u001b[0;32m---> 19\u001b[0m         backbone\u001b[38;5;241m=\u001b[39m\u001b[43mget_backbone\u001b[49m\u001b[43m(\u001b[49m\u001b[43margs\u001b[49m\u001b[38;5;241;43m.\u001b[39;49m\u001b[43mbackbone\u001b[49m\u001b[43m,\u001b[49m\u001b[43m \u001b[49m\u001b[43margs\u001b[49m\u001b[43m)\u001b[49m,\n\u001b[1;32m     20\u001b[0m         classifier\u001b[38;5;241m=\u001b[39mget_classifier(args\u001b[38;5;241m.\u001b[39mclassifier, interface, args),\n\u001b[1;32m     21\u001b[0m     )\n\u001b[1;32m     22\u001b[0m     model \u001b[38;5;241m=\u001b[39m Sound2SynthModel\u001b[38;5;241m.\u001b[39mload_from_checkpoint(checkpoint_path, net\u001b[38;5;241m=\u001b[39mnet, interface\u001b[38;5;241m=\u001b[39minterface, args\u001b[38;5;241m=\u001b[39margs)\n\u001b[1;32m     23\u001b[0m     \u001b[38;5;28;01mreturn\u001b[39;00m model\n",
      "File \u001b[0;32m~/Sound2Synth/model/__init__.py:30\u001b[0m, in \u001b[0;36mget_backbone\u001b[0;34m(backbone_type, args)\u001b[0m\n\u001b[1;32m     26\u001b[0m     backbone \u001b[38;5;241m=\u001b[39m MainBackbone(TimmBackbone(model_type\u001b[38;5;241m=\u001b[39mbackbone_type,\n\u001b[1;32m     27\u001b[0m                             input_layer_getter\u001b[38;5;241m=\u001b[39m\u001b[38;5;28;01mlambda\u001b[39;00m n:n\u001b[38;5;241m.\u001b[39mfeatures\u001b[38;5;241m.\u001b[39mconv0,modify_input_channels\u001b[38;5;241m=\u001b[39m\u001b[38;5;241m1\u001b[39m,\n\u001b[1;32m     28\u001b[0m                             output_layer_name\u001b[38;5;241m=\u001b[39m\u001b[38;5;124m\"\u001b[39m\u001b[38;5;124mclassifier\u001b[39m\u001b[38;5;124m\"\u001b[39m,embedding_dim\u001b[38;5;241m=\u001b[39mfeature_dim,pretrained\u001b[38;5;241m=\u001b[39m\u001b[38;5;28;01mTrue\u001b[39;00m))\n\u001b[1;32m     29\u001b[0m \u001b[38;5;28;01melif\u001b[39;00m \u001b[38;5;124m\"\u001b[39m\u001b[38;5;124mmultimodal\u001b[39m\u001b[38;5;124m\"\u001b[39m \u001b[38;5;129;01min\u001b[39;00m backbone_type:\n\u001b[0;32m---> 30\u001b[0m     backbone \u001b[38;5;241m=\u001b[39m \u001b[43mMultimodalBackbone\u001b[49m\u001b[43m(\u001b[49m\u001b[43moutput_dim\u001b[49m\u001b[38;5;241;43m=\u001b[39;49m\u001b[43mfeature_dim\u001b[49m\u001b[43m,\u001b[49m\u001b[43mmode_dropout\u001b[49m\u001b[38;5;241;43m=\u001b[39;49m\u001b[43margs\u001b[49m\u001b[38;5;241;43m.\u001b[39;49m\u001b[43mmode_dropout\u001b[49m\u001b[43m,\u001b[49m\u001b[43mconv\u001b[49m\u001b[38;5;241;43m=\u001b[39;49m\u001b[43margs\u001b[49m\u001b[38;5;241;43m.\u001b[39;49m\u001b[43mmultimodal_use_spec\u001b[49m\u001b[43m)\u001b[49m\n\u001b[1;32m     31\u001b[0m \u001b[38;5;28;01melif\u001b[39;00m \u001b[38;5;124m\"\u001b[39m\u001b[38;5;124mpdcnn\u001b[39m\u001b[38;5;124m\"\u001b[39m \u001b[38;5;129;01min\u001b[39;00m backbone_type:\n\u001b[1;32m     32\u001b[0m     backbone \u001b[38;5;241m=\u001b[39m PDCNN2Backbone(output_dim\u001b[38;5;241m=\u001b[39mfeature_dim)\n",
      "File \u001b[0;32m~/Sound2Synth/model/multimodal_backbone.py:36\u001b[0m, in \u001b[0;36mMultimodalBackbone.__init__\u001b[0;34m(self, output_dim, mode_dropout, conv)\u001b[0m\n\u001b[1;32m     31\u001b[0m \u001b[38;5;28msuper\u001b[39m(MultimodalBackbone, \u001b[38;5;28mself\u001b[39m)\u001b[38;5;241m.\u001b[39m\u001b[38;5;21m__init__\u001b[39m()\n\u001b[1;32m     32\u001b[0m \u001b[38;5;28mself\u001b[39m\u001b[38;5;241m.\u001b[39moutput_dim \u001b[38;5;241m=\u001b[39m output_dim\n\u001b[1;32m     33\u001b[0m \u001b[38;5;28mself\u001b[39m\u001b[38;5;241m.\u001b[39mbackbones \u001b[38;5;241m=\u001b[39m nn\u001b[38;5;241m.\u001b[39mModuleDict({\n\u001b[1;32m     34\u001b[0m     \u001b[38;5;124m'\u001b[39m\u001b[38;5;124mmain\u001b[39m\u001b[38;5;124m'\u001b[39m:     ConvBackbone(output_dim\u001b[38;5;241m=\u001b[39m\u001b[38;5;241m512\u001b[39m),\n\u001b[1;32m     35\u001b[0m     \u001b[38;5;124m'\u001b[39m\u001b[38;5;124mchroma\u001b[39m\u001b[38;5;124m'\u001b[39m:   PDCNN2Backbone(output_dim\u001b[38;5;241m=\u001b[39m\u001b[38;5;241m512\u001b[39m),\n\u001b[0;32m---> 36\u001b[0m     \u001b[38;5;124m'\u001b[39m\u001b[38;5;124mmfcc\u001b[39m\u001b[38;5;124m'\u001b[39m:     \u001b[43mLSTMBackbone\u001b[49m\u001b[43m(\u001b[49m\u001b[43minput_dim\u001b[49m\u001b[38;5;241;43m=\u001b[39;49m\u001b[38;5;241;43m13\u001b[39;49m\u001b[43m,\u001b[49m\u001b[43mhidden_dim\u001b[49m\u001b[38;5;241;43m=\u001b[39;49m\u001b[38;5;241;43m256\u001b[39;49m\u001b[43m,\u001b[49m\u001b[43mnum_layers\u001b[49m\u001b[38;5;241;43m=\u001b[39;49m\u001b[38;5;241;43m2\u001b[39;49m\u001b[43m,\u001b[49m\u001b[43moutput_dim\u001b[49m\u001b[38;5;241;43m=\u001b[39;49m\u001b[38;5;241;43m128\u001b[39;49m\u001b[43m)\u001b[49m,\n\u001b[1;32m     37\u001b[0m     \u001b[38;5;124m'\u001b[39m\u001b[38;5;124mspec_amp\u001b[39m\u001b[38;5;124m'\u001b[39m: LinearBackbone(input_dim\u001b[38;5;241m=\u001b[39mget_config(\u001b[38;5;124m\"\u001b[39m\u001b[38;5;124mdefault_torchaudio_args\u001b[39m\u001b[38;5;124m\"\u001b[39m)[\u001b[38;5;124m\"\u001b[39m\u001b[38;5;124minput_size\u001b[39m\u001b[38;5;124m\"\u001b[39m],hidden_dim\u001b[38;5;241m=\u001b[39m\u001b[38;5;241m256\u001b[39m,output_dim\u001b[38;5;241m=\u001b[39m\u001b[38;5;241m128\u001b[39m),\n\u001b[1;32m     38\u001b[0m     \u001b[38;5;124m'\u001b[39m\u001b[38;5;124mmel_amp\u001b[39m\u001b[38;5;124m'\u001b[39m:  LinearBackbone(input_dim\u001b[38;5;241m=\u001b[39mget_config(\u001b[38;5;124m\"\u001b[39m\u001b[38;5;124mdefault_torchaudio_args\u001b[39m\u001b[38;5;124m\"\u001b[39m)[\u001b[38;5;124m\"\u001b[39m\u001b[38;5;124minput_size\u001b[39m\u001b[38;5;124m\"\u001b[39m],hidden_dim\u001b[38;5;241m=\u001b[39m\u001b[38;5;241m256\u001b[39m,output_dim\u001b[38;5;241m=\u001b[39m\u001b[38;5;241m128\u001b[39m),\n\u001b[1;32m     39\u001b[0m     \u001b[38;5;124m'\u001b[39m\u001b[38;5;124mspec_rms\u001b[39m\u001b[38;5;124m'\u001b[39m: LinearBackbone(input_dim\u001b[38;5;241m=\u001b[39mget_config(\u001b[38;5;124m\"\u001b[39m\u001b[38;5;124mdefault_torchaudio_args\u001b[39m\u001b[38;5;124m\"\u001b[39m)[\u001b[38;5;124m\"\u001b[39m\u001b[38;5;124minput_size\u001b[39m\u001b[38;5;124m\"\u001b[39m],hidden_dim\u001b[38;5;241m=\u001b[39m\u001b[38;5;241m256\u001b[39m,output_dim\u001b[38;5;241m=\u001b[39m\u001b[38;5;241m128\u001b[39m),\n\u001b[1;32m     40\u001b[0m     \u001b[38;5;124m'\u001b[39m\u001b[38;5;124mmel_rms\u001b[39m\u001b[38;5;124m'\u001b[39m:  LinearBackbone(input_dim\u001b[38;5;241m=\u001b[39mget_config(\u001b[38;5;124m\"\u001b[39m\u001b[38;5;124mdefault_torchaudio_args\u001b[39m\u001b[38;5;124m\"\u001b[39m)[\u001b[38;5;124m\"\u001b[39m\u001b[38;5;124minput_size\u001b[39m\u001b[38;5;124m\"\u001b[39m],hidden_dim\u001b[38;5;241m=\u001b[39m\u001b[38;5;241m256\u001b[39m,output_dim\u001b[38;5;241m=\u001b[39m\u001b[38;5;241m128\u001b[39m),\n\u001b[1;32m     41\u001b[0m     \u001b[38;5;124m'\u001b[39m\u001b[38;5;124mzcr\u001b[39m\u001b[38;5;124m'\u001b[39m:      LinearBackbone(input_dim\u001b[38;5;241m=\u001b[39mget_config(\u001b[38;5;124m\"\u001b[39m\u001b[38;5;124mdefault_torchaudio_args\u001b[39m\u001b[38;5;124m\"\u001b[39m)[\u001b[38;5;124m\"\u001b[39m\u001b[38;5;124minput_size\u001b[39m\u001b[38;5;124m\"\u001b[39m],hidden_dim\u001b[38;5;241m=\u001b[39m\u001b[38;5;241m256\u001b[39m,output_dim\u001b[38;5;241m=\u001b[39m\u001b[38;5;241m128\u001b[39m),\n\u001b[1;32m     42\u001b[0m     \u001b[38;5;124m'\u001b[39m\u001b[38;5;124mrms\u001b[39m\u001b[38;5;124m'\u001b[39m:      LinearBackbone(input_dim\u001b[38;5;241m=\u001b[39mget_config(\u001b[38;5;124m\"\u001b[39m\u001b[38;5;124mdefault_torchaudio_args\u001b[39m\u001b[38;5;124m\"\u001b[39m)[\u001b[38;5;124m\"\u001b[39m\u001b[38;5;124minput_size\u001b[39m\u001b[38;5;124m\"\u001b[39m],hidden_dim\u001b[38;5;241m=\u001b[39m\u001b[38;5;241m256\u001b[39m,output_dim\u001b[38;5;241m=\u001b[39m\u001b[38;5;241m128\u001b[39m),\n\u001b[1;32m     43\u001b[0m     \u001b[38;5;124m'\u001b[39m\u001b[38;5;124mflatness\u001b[39m\u001b[38;5;124m'\u001b[39m: LinearBackbone(input_dim\u001b[38;5;241m=\u001b[39mget_config(\u001b[38;5;124m\"\u001b[39m\u001b[38;5;124mdefault_torchaudio_args\u001b[39m\u001b[38;5;124m\"\u001b[39m)[\u001b[38;5;124m\"\u001b[39m\u001b[38;5;124minput_size\u001b[39m\u001b[38;5;124m\"\u001b[39m],hidden_dim\u001b[38;5;241m=\u001b[39m\u001b[38;5;241m256\u001b[39m,output_dim\u001b[38;5;241m=\u001b[39m\u001b[38;5;241m128\u001b[39m),\n\u001b[1;32m     44\u001b[0m })\n\u001b[1;32m     45\u001b[0m \u001b[38;5;28;01mif\u001b[39;00m \u001b[38;5;129;01mnot\u001b[39;00m conv:\n\u001b[1;32m     46\u001b[0m     \u001b[38;5;28;01mdel\u001b[39;00m \u001b[38;5;28mself\u001b[39m\u001b[38;5;241m.\u001b[39mbackbones[\u001b[38;5;124m'\u001b[39m\u001b[38;5;124mmain\u001b[39m\u001b[38;5;124m'\u001b[39m]\n",
      "File \u001b[0;32m~/Sound2Synth/model/lstm_backbone.py:15\u001b[0m, in \u001b[0;36mLSTMBackbone.__init__\u001b[0;34m(self, input_dim, hidden_dim, num_layers, output_dim)\u001b[0m\n\u001b[1;32m     13\u001b[0m \u001b[38;5;28msuper\u001b[39m(LSTMBackbone, \u001b[38;5;28mself\u001b[39m)\u001b[38;5;241m.\u001b[39m\u001b[38;5;21m__init__\u001b[39m()\n\u001b[1;32m     14\u001b[0m \u001b[38;5;28mself\u001b[39m\u001b[38;5;241m.\u001b[39minput_dim \u001b[38;5;241m=\u001b[39m input_dim; \u001b[38;5;28mself\u001b[39m\u001b[38;5;241m.\u001b[39mhidden_dim \u001b[38;5;241m=\u001b[39m hidden_dim; \u001b[38;5;28mself\u001b[39m\u001b[38;5;241m.\u001b[39moutput_dim \u001b[38;5;241m=\u001b[39m output_dim\n\u001b[0;32m---> 15\u001b[0m \u001b[38;5;28mself\u001b[39m\u001b[38;5;241m.\u001b[39mmodel \u001b[38;5;241m=\u001b[39m \u001b[43mnn\u001b[49m\u001b[38;5;241;43m.\u001b[39;49m\u001b[43mLSTM\u001b[49m\u001b[43m(\u001b[49m\n\u001b[1;32m     16\u001b[0m \u001b[43m    \u001b[49m\u001b[43minput_size\u001b[49m\u001b[38;5;241;43m=\u001b[39;49m\u001b[43minput_dim\u001b[49m\u001b[43m,\u001b[49m\n\u001b[1;32m     17\u001b[0m \u001b[43m    \u001b[49m\u001b[43mhidden_size\u001b[49m\u001b[38;5;241;43m=\u001b[39;49m\u001b[43mhidden_dim\u001b[49m\u001b[43m,\u001b[49m\n\u001b[1;32m     18\u001b[0m \u001b[43m    \u001b[49m\u001b[43mnum_layers\u001b[49m\u001b[38;5;241;43m=\u001b[39;49m\u001b[43mnum_layers\u001b[49m\u001b[43m,\u001b[49m\n\u001b[1;32m     19\u001b[0m \u001b[43m    \u001b[49m\u001b[43mbatch_first\u001b[49m\u001b[38;5;241;43m=\u001b[39;49m\u001b[38;5;28;43;01mTrue\u001b[39;49;00m\u001b[43m,\u001b[49m\n\u001b[1;32m     20\u001b[0m \u001b[43m    \u001b[49m\u001b[43mbidirectional\u001b[49m\u001b[38;5;241;43m=\u001b[39;49m\u001b[38;5;28;43;01mTrue\u001b[39;49;00m\n\u001b[1;32m     21\u001b[0m \u001b[43m\u001b[49m\u001b[43m)\u001b[49m\n\u001b[1;32m     22\u001b[0m \u001b[38;5;28mself\u001b[39m\u001b[38;5;241m.\u001b[39mlinear \u001b[38;5;241m=\u001b[39m FC(\u001b[38;5;241m2\u001b[39m\u001b[38;5;241m*\u001b[39mhidden_dim\u001b[38;5;241m*\u001b[39mnum_layers, output_dim, activation\u001b[38;5;241m=\u001b[39mnn\u001b[38;5;241m.\u001b[39mLeakyReLU(inplace\u001b[38;5;241m=\u001b[39m\u001b[38;5;28;01mTrue\u001b[39;00m))\n",
      "File \u001b[0;32m~/anaconda3/envs/sound2synth/lib/python3.9/site-packages/torch/nn/modules/rnn.py:802\u001b[0m, in \u001b[0;36mLSTM.__init__\u001b[0;34m(self, *args, **kwargs)\u001b[0m\n\u001b[1;32m    801\u001b[0m \u001b[38;5;28;01mdef\u001b[39;00m \u001b[38;5;21m__init__\u001b[39m(\u001b[38;5;28mself\u001b[39m, \u001b[38;5;241m*\u001b[39margs, \u001b[38;5;241m*\u001b[39m\u001b[38;5;241m*\u001b[39mkwargs):\n\u001b[0;32m--> 802\u001b[0m     \u001b[38;5;28;43msuper\u001b[39;49m\u001b[43m(\u001b[49m\u001b[43m)\u001b[49m\u001b[38;5;241;43m.\u001b[39;49m\u001b[38;5;21;43m__init__\u001b[39;49m\u001b[43m(\u001b[49m\u001b[38;5;124;43m'\u001b[39;49m\u001b[38;5;124;43mLSTM\u001b[39;49m\u001b[38;5;124;43m'\u001b[39;49m\u001b[43m,\u001b[49m\u001b[43m \u001b[49m\u001b[38;5;241;43m*\u001b[39;49m\u001b[43margs\u001b[49m\u001b[43m,\u001b[49m\u001b[43m \u001b[49m\u001b[38;5;241;43m*\u001b[39;49m\u001b[38;5;241;43m*\u001b[39;49m\u001b[43mkwargs\u001b[49m\u001b[43m)\u001b[49m\n",
      "File \u001b[0;32m~/anaconda3/envs/sound2synth/lib/python3.9/site-packages/torch/nn/modules/rnn.py:151\u001b[0m, in \u001b[0;36mRNNBase.__init__\u001b[0;34m(self, mode, input_size, hidden_size, num_layers, bias, batch_first, dropout, bidirectional, proj_size, device, dtype)\u001b[0m\n\u001b[1;32m    147\u001b[0m         \u001b[38;5;28mself\u001b[39m\u001b[38;5;241m.\u001b[39m_all_weights\u001b[38;5;241m.\u001b[39mappend(param_names)\n\u001b[1;32m    149\u001b[0m \u001b[38;5;28mself\u001b[39m\u001b[38;5;241m.\u001b[39m_init_flat_weights()\n\u001b[0;32m--> 151\u001b[0m \u001b[38;5;28;43mself\u001b[39;49m\u001b[38;5;241;43m.\u001b[39;49m\u001b[43mreset_parameters\u001b[49m\u001b[43m(\u001b[49m\u001b[43m)\u001b[49m\n",
      "File \u001b[0;32m~/anaconda3/envs/sound2synth/lib/python3.9/site-packages/torch/nn/modules/rnn.py:229\u001b[0m, in \u001b[0;36mRNNBase.reset_parameters\u001b[0;34m(self)\u001b[0m\n\u001b[1;32m    227\u001b[0m stdv \u001b[38;5;241m=\u001b[39m \u001b[38;5;241m1.0\u001b[39m \u001b[38;5;241m/\u001b[39m math\u001b[38;5;241m.\u001b[39msqrt(\u001b[38;5;28mself\u001b[39m\u001b[38;5;241m.\u001b[39mhidden_size) \u001b[38;5;28;01mif\u001b[39;00m \u001b[38;5;28mself\u001b[39m\u001b[38;5;241m.\u001b[39mhidden_size \u001b[38;5;241m>\u001b[39m \u001b[38;5;241m0\u001b[39m \u001b[38;5;28;01melse\u001b[39;00m \u001b[38;5;241m0\u001b[39m\n\u001b[1;32m    228\u001b[0m \u001b[38;5;28;01mfor\u001b[39;00m weight \u001b[38;5;129;01min\u001b[39;00m \u001b[38;5;28mself\u001b[39m\u001b[38;5;241m.\u001b[39mparameters():\n\u001b[0;32m--> 229\u001b[0m     \u001b[43minit\u001b[49m\u001b[38;5;241;43m.\u001b[39;49m\u001b[43muniform_\u001b[49m\u001b[43m(\u001b[49m\u001b[43mweight\u001b[49m\u001b[43m,\u001b[49m\u001b[43m \u001b[49m\u001b[38;5;241;43m-\u001b[39;49m\u001b[43mstdv\u001b[49m\u001b[43m,\u001b[49m\u001b[43m \u001b[49m\u001b[43mstdv\u001b[49m\u001b[43m)\u001b[49m\n",
      "File \u001b[0;32m~/anaconda3/envs/sound2synth/lib/python3.9/site-packages/torch/nn/init.py:148\u001b[0m, in \u001b[0;36muniform_\u001b[0;34m(tensor, a, b, generator)\u001b[0m\n\u001b[1;32m    144\u001b[0m \u001b[38;5;28;01mif\u001b[39;00m torch\u001b[38;5;241m.\u001b[39moverrides\u001b[38;5;241m.\u001b[39mhas_torch_function_variadic(tensor):\n\u001b[1;32m    145\u001b[0m     \u001b[38;5;28;01mreturn\u001b[39;00m torch\u001b[38;5;241m.\u001b[39moverrides\u001b[38;5;241m.\u001b[39mhandle_torch_function(\n\u001b[1;32m    146\u001b[0m         uniform_, (tensor,), tensor\u001b[38;5;241m=\u001b[39mtensor, a\u001b[38;5;241m=\u001b[39ma, b\u001b[38;5;241m=\u001b[39mb, generator\u001b[38;5;241m=\u001b[39mgenerator\n\u001b[1;32m    147\u001b[0m     )\n\u001b[0;32m--> 148\u001b[0m \u001b[38;5;28;01mreturn\u001b[39;00m \u001b[43m_no_grad_uniform_\u001b[49m\u001b[43m(\u001b[49m\u001b[43mtensor\u001b[49m\u001b[43m,\u001b[49m\u001b[43m \u001b[49m\u001b[43ma\u001b[49m\u001b[43m,\u001b[49m\u001b[43m \u001b[49m\u001b[43mb\u001b[49m\u001b[43m,\u001b[49m\u001b[43m \u001b[49m\u001b[43mgenerator\u001b[49m\u001b[43m)\u001b[49m\n",
      "File \u001b[0;32m~/anaconda3/envs/sound2synth/lib/python3.9/site-packages/torch/nn/init.py:15\u001b[0m, in \u001b[0;36m_no_grad_uniform_\u001b[0;34m(tensor, a, b, generator)\u001b[0m\n\u001b[1;32m     13\u001b[0m \u001b[38;5;28;01mdef\u001b[39;00m \u001b[38;5;21m_no_grad_uniform_\u001b[39m(tensor, a, b, generator\u001b[38;5;241m=\u001b[39m\u001b[38;5;28;01mNone\u001b[39;00m):\n\u001b[1;32m     14\u001b[0m     \u001b[38;5;28;01mwith\u001b[39;00m torch\u001b[38;5;241m.\u001b[39mno_grad():\n\u001b[0;32m---> 15\u001b[0m         \u001b[38;5;28;01mreturn\u001b[39;00m \u001b[43mtensor\u001b[49m\u001b[38;5;241;43m.\u001b[39;49m\u001b[43muniform_\u001b[49m\u001b[43m(\u001b[49m\u001b[43ma\u001b[49m\u001b[43m,\u001b[49m\u001b[43m \u001b[49m\u001b[43mb\u001b[49m\u001b[43m,\u001b[49m\u001b[43m \u001b[49m\u001b[43mgenerator\u001b[49m\u001b[38;5;241;43m=\u001b[39;49m\u001b[43mgenerator\u001b[49m\u001b[43m)\u001b[49m\n",
      "\u001b[0;31mKeyboardInterrupt\u001b[0m: "
     ]
    }
   ],
   "source": [
    "import os\n",
    "import torch\n",
    "import torchaudio\n",
    "from pytorch_lightning import Trainer\n",
    "from dataset import DATASET_MAPPING, DATASET_PATHS\n",
    "from interface import INTERFACE_MAPPING\n",
    "from model import Net, get_backbone, get_classifier\n",
    "from sound2synth import Sound2SynthModel\n",
    "from pathlib import Path\n",
    "from pyheaven import *\n",
    "from dataset.chains import SimpleSynth, Synplant2\n",
    "from interface.torchsynth import REG_NCLASS\n",
    "from torchsynth.config import SynthConfig\n",
    "\n",
    "\n",
    "def load_checkpoint(checkpoint_path, args):\n",
    "    interface = INTERFACE_MAPPING[args.synth]\n",
    "    net = Net(\n",
    "        backbone=get_backbone(args.backbone, args),\n",
    "        classifier=get_classifier(args.classifier, interface, args),\n",
    "    )\n",
    "    model = Sound2SynthModel.load_from_checkpoint(checkpoint_path, net=net, interface=interface, args=args)\n",
    "    return model\n",
    "\n",
    "def save_wavs(audio, path, name):\n",
    "    os.makedirs(path, exist_ok=True)\n",
    "    filepath = os.path.join(path, f\"{name}.wav\")\n",
    "    torchaudio.save(filepath, audio, 48000)\n",
    "    \n",
    "def parse_outputs(outputs, unnormalizer, logits, from_0to1):\n",
    "    n_params = len(unnormalizer)\n",
    "    # print(n_params)\n",
    "    if logits:\n",
    "        outputs = torch.stack(outputs.squeeze(0).chunk(n_params)).argmax(dim=1)/(REG_NCLASS-1)\n",
    "    \n",
    "    mydict = {}\n",
    "    assert len(unnormalizer) == len(outputs), f\"Length mismatch: {len(unnormalizer)} vs {len(outputs)}\"\n",
    "    for (k, f), v in zip(unnormalizer.items(), outputs):\n",
    "        if 'keyboard' in k:\n",
    "            continue # Skip keyboard parameters as they are initialized frozen\n",
    "        mydict[k] = f.from_0to1(v.unsqueeze(0)) if from_0to1 else v.unsqueeze(0)\n",
    "    return mydict\n",
    "\n",
    "def dict_to_audio(mydict, synth):\n",
    "    synth.set_parameters(mydict)\n",
    "    # print(synth.keyboard.torchparameters.midi_f0)\n",
    "    audio = synth.output()\n",
    "    return audio\n",
    "\n",
    "# def main():\n",
    "if True:\n",
    "    checkpoint_path = './checkpoints/SimpleSynth_audioLoss/last.ckpt'  # Replace with the actual path to the checkpoint\n",
    "    output_dir = \"output_wavs\"\n",
    "    \n",
    "    args = MemberDict(dict(\n",
    "        synth=\"TorchSynth\",\n",
    "        synth_class=\"SimpleSynth\",\n",
    "        backbone=\"multimodal\",\n",
    "        classifier=\"parameter\",\n",
    "        dataset_type=\"my_multimodal\",\n",
    "        dataset=\"SimpleSynth\",\n",
    "        feature_dim=2048,\n",
    "    ))\n",
    "    \n",
    "    dataset = DATASET_MAPPING[args.dataset_type](dir='data/'+args.dataset, chain=args.synth_class, split='train')\n",
    "    \n",
    "    synth = dataset.synth\n",
    "    unnormalizer = dataset.unnormalizer\n",
    "\n",
    "    model = load_checkpoint(checkpoint_path, args)\n",
    "    model.eval()\n",
    "\n",
    "    dataloader = torch.utils.data.DataLoader(dataset, batch_size=1)\n",
    "    \n",
    "    with torch.no_grad():\n",
    "        for idx, batch in enumerate(dataloader):\n",
    "            if idx >= 5:  # Iterate through 5 samples\n",
    "                break\n",
    "            (features, sample_rate), label = batch\n",
    "            outputs = model(features)\n",
    "            true_params = label[0].squeeze(0)\n",
    "            # print((true_params.max() <= 1).item())\n",
    "            parsed_outputs = parse_outputs(outputs, unnormalizer, logits=True, from_0to1=True)\n",
    "            parsed_true_params = parse_outputs(true_params, unnormalizer, logits=False, from_0to1=(true_params.max() <= 1).item())\n",
    "\n",
    "            print(parsed_outputs)\n",
    "            print(parsed_true_params)\n",
    "\n",
    "            reconstructions = dict_to_audio(parsed_outputs, synth)\n",
    "            ground_truth = dict_to_audio(parsed_true_params, synth)\n",
    "            \n",
    "            # Save ground truth and reconstructions as WAV files\n",
    "            save_wavs(ground_truth, output_dir, f\"ground_truth_{idx}\")\n",
    "            save_wavs(reconstructions, output_dir, f\"reconstruction_{idx}\")\n",
    "            print(f\"Saved sample {idx}\")\n",
    "\n",
    "# main()"
   ]
  },
  {
   "cell_type": "code",
   "execution_count": 1,
   "metadata": {},
   "outputs": [
    {
     "name": "stdout",
     "output_type": "stream",
     "text": [
      "Module, received value grad fn: None\n",
      "ModuleParameter(name=midi_f0, value=tensor([0.4583, 0.1176, 0.1306, 0.3014, 0.2810, 0.6898, 0.5162, 0.5739, 0.2169,\n",
      "        0.1588, 0.2780, 0.2170, 0.6408, 0.8248, 0.9159, 0.4198, 0.4051, 0.0019,\n",
      "        0.4069, 0.9857, 0.6629, 0.7878, 0.5834, 0.0461, 0.2492, 0.4795, 0.0817,\n",
      "        0.4352, 0.5693, 0.9458, 0.5966, 0.0411]))\n",
      "Pre-existing grad fn: None\n",
      "Parameter received grad_fn: None\n",
      "Parameter returning grad_fn: None\n",
      "Post grad fn: None\n",
      "Module set value grad fn: None\n",
      "Module, received value grad fn: None\n",
      "ModuleParameter(name=duration, value=tensor([0.7447, 0.9775, 0.0298, 0.8694, 0.2186, 0.0291, 0.0573, 0.4556, 0.9365,\n",
      "        0.3590, 0.9447, 0.9639, 0.6449, 0.8985, 0.6730, 0.2891, 0.7008, 0.0180,\n",
      "        0.3277, 0.5703, 0.6723, 0.8760, 0.7086, 0.9030, 0.4321, 0.4253, 0.6631,\n",
      "        0.9869, 0.5455, 0.2964, 0.1566, 0.3552]))\n",
      "Pre-existing grad fn: None\n",
      "Parameter received grad_fn: None\n",
      "Parameter returning grad_fn: None\n",
      "Post grad fn: None\n",
      "Module set value grad fn: None\n",
      "Module, received value grad fn: None\n",
      "ModuleParameter(name=midi_f0, value=tensor([0.4956]))\n",
      "Pre-existing grad fn: None\n",
      "Parameter received grad_fn: None\n",
      "Parameter returning grad_fn: None\n",
      "Post grad fn: None\n",
      "Module set value grad fn: None\n",
      "Module, received value grad fn: None\n",
      "ModuleParameter(name=duration, value=tensor([0.2526]))\n",
      "Pre-existing grad fn: None\n",
      "Parameter received grad_fn: None\n",
      "Parameter returning grad_fn: None\n",
      "Post grad fn: None\n",
      "Module set value grad fn: None\n",
      "Module, received value grad fn: None\n",
      "ModuleParameter(name=midi_f0, value=tensor([0.7936]))\n",
      "Pre-existing grad fn: None\n",
      "Parameter received grad_fn: None\n",
      "Parameter returning grad_fn: None\n",
      "Post grad fn: None\n",
      "Module set value grad fn: None\n",
      "Module, received value grad fn: None\n",
      "ModuleParameter(name=duration, value=tensor([0.0405]))\n",
      "Pre-existing grad fn: None\n",
      "Parameter received grad_fn: None\n",
      "Parameter returning grad_fn: None\n",
      "Post grad fn: None\n",
      "Module set value grad fn: None\n",
      "Module, received value grad fn: <AddBackward0 object at 0x7f0bc2a82af0>\n",
      "ModuleParameter(name=attack, value=tensor([0.5772]))\n",
      "Pre-existing grad fn: None\n",
      "Parameter received grad_fn: <AddBackward0 object at 0x7f0bc2a82af0>\n",
      "Parameter returning grad_fn: <PowBackward0 object at 0x7f0bc2a82af0>\n",
      "Post grad fn: None\n",
      "Module set value grad fn: None\n",
      "Module, received value grad fn: <AddBackward0 object at 0x7f0bc2a82af0>\n",
      "ModuleParameter(name=decay, value=tensor([0.4995]))\n",
      "Pre-existing grad fn: None\n",
      "Parameter received grad_fn: <AddBackward0 object at 0x7f0bc2a82af0>\n",
      "Parameter returning grad_fn: <PowBackward0 object at 0x7f0bc2a82af0>\n",
      "Post grad fn: None\n",
      "Module set value grad fn: None\n",
      "Module, received value grad fn: <AddBackward0 object at 0x7f0bc2a82af0>\n",
      "ModuleParameter(name=sustain, value=tensor([0.4489]))\n",
      "Pre-existing grad fn: None\n",
      "Parameter received grad_fn: <AddBackward0 object at 0x7f0bc2a82af0>\n",
      "Parameter returning grad_fn: <DivBackward0 object at 0x7f0bc2a82af0>\n",
      "Post grad fn: None\n",
      "Module set value grad fn: None\n",
      "Module, received value grad fn: <AddBackward0 object at 0x7f0bc2a82af0>\n",
      "ModuleParameter(name=release, value=tensor([0.7360]))\n",
      "Pre-existing grad fn: None\n",
      "Parameter received grad_fn: <AddBackward0 object at 0x7f0bc2a82af0>\n",
      "Parameter returning grad_fn: <PowBackward0 object at 0x7f0bc2a82af0>\n",
      "Post grad fn: None\n",
      "Module set value grad fn: None\n",
      "Module, received value grad fn: <AddBackward0 object at 0x7f0bc2a82af0>\n",
      "ModuleParameter(name=alpha, value=tensor([0.7805]))\n",
      "Pre-existing grad fn: None\n",
      "Parameter received grad_fn: <AddBackward0 object at 0x7f0bc2a82af0>\n",
      "Parameter returning grad_fn: <DivBackward0 object at 0x7f0bc2a82af0>\n",
      "Post grad fn: None\n",
      "Module set value grad fn: None\n",
      "Module, received value grad fn: <AddBackward0 object at 0x7f0bc2a82af0>\n",
      "ModuleParameter(name=tuning, value=tensor([0.0246]))\n",
      "Pre-existing grad fn: None\n",
      "Parameter received grad_fn: <AddBackward0 object at 0x7f0bc2a82af0>\n",
      "Parameter returning grad_fn: <DivBackward0 object at 0x7f0bc2a82af0>\n",
      "Post grad fn: None\n",
      "Module set value grad fn: None\n",
      "Module, received value grad fn: <AddBackward0 object at 0x7f0bc2a82af0>\n",
      "ModuleParameter(name=mod_depth, value=tensor([0.1138]))\n",
      "Pre-existing grad fn: None\n",
      "Parameter received grad_fn: <AddBackward0 object at 0x7f0bc2a82af0>\n",
      "Param returning grad fn: <DivBackward0 object at 0x7f0bc2a82af0>\n",
      "Post grad fn: None\n",
      "Module set value grad fn: None\n",
      "Module, received value grad fn: <AddBackward0 object at 0x7f0bc2a82af0>\n",
      "ModuleParameter(name=initial_phase, value=tensor([0.7830]))\n",
      "Pre-existing grad fn: None\n",
      "Parameter received grad_fn: <AddBackward0 object at 0x7f0bc2a82af0>\n",
      "Parameter returning grad_fn: <DivBackward0 object at 0x7f0bc2a82af0>\n",
      "Post grad fn: None\n",
      "Module set value grad fn: None\n",
      "Module, received value grad fn: <AddBackward0 object at 0x7f0bc2a82af0>\n",
      "ModuleParameter(name=shape, value=tensor([0.7511]))\n",
      "Pre-existing grad fn: None\n",
      "Parameter received grad_fn: <AddBackward0 object at 0x7f0bc2a82af0>\n",
      "Parameter returning grad_fn: <DivBackward0 object at 0x7f0bc2a82af0>\n",
      "Post grad fn: None\n",
      "Module set value grad fn: None\n",
      "<AddBackward0 object at 0x7f0bc2a82af0>\n",
      "<AddBackward0 object at 0x7f0bc2a82af0>\n",
      "<AddBackward0 object at 0x7f0bc2a82af0>\n",
      "<AddBackward0 object at 0x7f0bc2a82af0>\n",
      "<AddBackward0 object at 0x7f0bc2a82af0>\n",
      "<AddBackward0 object at 0x7f0bc2a82af0>\n",
      "<AddBackward0 object at 0x7f0bc2a82af0>\n",
      "<AddBackward0 object at 0x7f0bc2a82af0>\n",
      "<AddBackward0 object at 0x7f0bc2a82af0>\n"
     ]
    }
   ],
   "source": [
    "from dataset.chains import SimpleSynth\n",
    "from torchsynth.config import SynthConfig\n",
    "import torch\n",
    "import torch.nn.functional as F\n",
    "from pyheaven import *\n",
    "from dataset import DATASET_MAPPING, DATASET_PATHS\n",
    "from interface.torchsynth import REG_NCLASS\n",
    "\n",
    "args = MemberDict(dict(\n",
    "        synth=\"TorchSynth\",\n",
    "        synth_class=\"SimpleSynth\",\n",
    "        backbone=\"multimodal\",\n",
    "        classifier=\"parameter\",\n",
    "        dataset_type=\"my_multimodal\",\n",
    "        dataset=\"SimpleSynth\",\n",
    "        feature_dim=2048,\n",
    "))\n",
    "\n",
    "dataset = DATASET_MAPPING[args.dataset_type](dir='data/'+args.dataset, chain=args.synth_class, split='train')\n",
    "\n",
    "unnormalizer = dataset.unnormalizer\n",
    "\n",
    "class DifferentiableArgmax(torch.autograd.Function):\n",
    "    @staticmethod\n",
    "    def forward(ctx, input):\n",
    "        idx = input.argmax(dim=1)\n",
    "        output = F.one_hot(idx, num_classes=input.size(1)).float()\n",
    "        ctx.save_for_backward(input, output)\n",
    "        return output\n",
    "\n",
    "    @staticmethod\n",
    "    def backward(ctx, grad_output):\n",
    "        input, output = ctx.saved_tensors\n",
    "        grad_input = grad_output * output\n",
    "        return grad_input\n",
    "\n",
    "def parse_outputs(outputs, unnormalizer, logits, from_0to1):\n",
    "    n_params = len(unnormalizer)\n",
    "    if logits:\n",
    "        outputs = torch.stack(outputs.squeeze(0).chunk(n_params))\n",
    "        # print(\"Grad function after stacking:\", outputs.grad_fn)\n",
    "        \n",
    "        # Apply DifferentiableArgmax\n",
    "        outputs_one_hot = DifferentiableArgmax.apply(outputs)\n",
    "        # print(\"Grad function after DifferentiableArgmax:\", outputs_one_hot.grad_fn)\n",
    "        \n",
    "        # Convert one-hot back to index and normalize\n",
    "        outputs = outputs_one_hot.argmax(dim=1).float() / (REG_NCLASS - 1)\n",
    "        # print(\"Grad function after conversion and normalization:\", outputs.grad_fn)\n",
    "        \n",
    "        # Ensure outputs requires grad\n",
    "        if not outputs.requires_grad:\n",
    "            outputs = outputs.detach().requires_grad_()\n",
    "        \n",
    "        # print(\"Final grad function:\", outputs.grad_fn)\n",
    "    \n",
    "    mydict = {}\n",
    "    assert len(unnormalizer) == len(outputs), f\"Length mismatch: {len(unnormalizer)} vs {len(outputs)}\"\n",
    "    for (k, f), v in zip(unnormalizer.items(), outputs):\n",
    "        if 'keyboard' in k:\n",
    "            continue # Skip keyboard parameters as they are initialized frozen\n",
    "        mydict[k] = f.from_0to1(v.unsqueeze(0)) if from_0to1 else v.unsqueeze(0)\n",
    "    return mydict\n",
    "\n",
    "outputs = torch.randn((1,704), requires_grad=True)\n",
    "params = parse_outputs(outputs, unnormalizer, logits=True, from_0to1=True)\n",
    "\n",
    "synth = SimpleSynth(SynthConfig(batch_size=1, sample_rate=48000, reproducible=False, no_grad=False))\n",
    "\n",
    "synth.set_parameters(params)\n",
    "set_params = synth.get_parameters()\n",
    "for k, v in params.items():\n",
    "    print(v.grad_fn)\n"
   ]
  },
  {
   "cell_type": "code",
   "execution_count": null,
   "metadata": {},
   "outputs": [],
   "source": []
  },
  {
   "cell_type": "code",
   "execution_count": 47,
   "metadata": {},
   "outputs": [
    {
     "name": "stdout",
     "output_type": "stream",
     "text": [
      "tensor([[ 1.5737, -0.2365,  1.2066,  0.8111, -0.3006, -0.3348,  0.7711, -0.2459,\n",
      "         -0.4521, -0.0867, -0.0980]]) tensor([0]) tensor([0.3411])\n"
     ]
    }
   ],
   "source": [
    "outputs = torch.randn(1, 11)\n",
    "argmax = outputs.argmax(dim=-1)\n",
    "softmax = outputs.softmax(dim=-1)\n",
    "softmax = (softmax * torch.linspace(0, 1, softmax.shape[-1], device=softmax.device)).sum(dim=-1)\n",
    "print(outputs, argmax, softmax)"
   ]
  },
  {
   "cell_type": "code",
   "execution_count": 36,
   "metadata": {},
   "outputs": [
    {
     "name": "stdout",
     "output_type": "stream",
     "text": [
      "The autoreload extension is already loaded. To reload it, use:\n",
      "  %reload_ext autoreload\n",
      "Signal(4.9198, grad_fn=<AliasBackward0>)\n"
     ]
    }
   ],
   "source": [
    "%load_ext autoreload\n",
    "%autoreload 2\n",
    "\n",
    "from utils.loss_utils import AudioLoss\n",
    "\n",
    "pred_params = torch.randn(1, 64*44)\n",
    "\n",
    "loss_fn = AudioLoss(scales=[512,1024], synth='Synplant2')\n",
    "\n",
    "loss, stfts = loss_fn(pred_params, true_params)\n",
    "# for stft in stfts:\n",
    "#     print(f'Max: {stft[0].max()}, Min: {stft[0].min()}')\n",
    "print(loss)"
   ]
  },
  {
   "cell_type": "code",
   "execution_count": 30,
   "metadata": {},
   "outputs": [
    {
     "data": {
      "text/plain": [
       "[Signal([[nan, nan, nan,  ..., nan, nan, nan],\n",
       "         [nan, nan, nan,  ..., nan, nan, nan],\n",
       "         [nan, nan, nan,  ..., nan, nan, nan],\n",
       "         ...,\n",
       "         [nan, nan, nan,  ..., nan, nan, nan],\n",
       "         [nan, nan, nan,  ..., nan, nan, nan],\n",
       "         [nan, nan, nan,  ..., nan, nan, nan]], grad_fn=<AliasBackward0>),\n",
       " Signal([[nan, nan, nan,  ..., nan, nan, nan],\n",
       "         [nan, nan, nan,  ..., nan, nan, nan],\n",
       "         [nan, nan, nan,  ..., nan, nan, nan],\n",
       "         ...,\n",
       "         [nan, nan, nan,  ..., nan, nan, nan],\n",
       "         [nan, nan, nan,  ..., nan, nan, nan],\n",
       "         [nan, nan, nan,  ..., nan, nan, nan]], grad_fn=<AliasBackward0>)]"
      ]
     },
     "execution_count": 30,
     "metadata": {},
     "output_type": "execute_result"
    }
   ],
   "source": [
    "stfts[0]"
   ]
  },
  {
   "cell_type": "code",
   "execution_count": 29,
   "metadata": {},
   "outputs": [
    {
     "data": {
      "text/plain": [
       "Signal(0)"
      ]
     },
     "execution_count": 29,
     "metadata": {},
     "output_type": "execute_result"
    }
   ],
   "source": [
    "pred_stft.isnan().sum()"
   ]
  },
  {
   "cell_type": "code",
   "execution_count": 26,
   "metadata": {},
   "outputs": [
    {
     "data": {
      "image/png": "[encoded data removed]",
      "text/plain": [
       "<Figure size 640x480 with 1 Axes>"
      ]
     },
     "metadata": {},
     "output_type": "display_data"
    }
   ],
   "source": [
    "import matplotlib.pyplot as plt\n",
    "# plt.plot(true_audio[0].detach().numpy())\n",
    "# plt.plot(pred_audio[0].detach().numpy())\n",
    "plt.plot(pred_stft[0].detach().numpy())\n",
    "plt.show()"
   ]
  },
  {
   "cell_type": "code",
   "execution_count": 22,
   "metadata": {},
   "outputs": [
    {
     "name": "stdout",
     "output_type": "stream",
     "text": [
      "Estimated average distance to nearest neighbor: 0.3488650173108152\n"
     ]
    }
   ],
   "source": [
    "import math\n",
    "\n",
    "def estimate_avg_nearest_neighbor_distance(n, k):\n",
    "    return math.gamma(1 + 1/k) * (n ** (-1/k))\n",
    "\n",
    "# Example usage\n",
    "n = 8000 # number of samples\n",
    "k = 9     # number of dimensions\n",
    "avg_distance = estimate_avg_nearest_neighbor_distance(n, k)\n",
    "print(f\"Estimated average distance to nearest neighbor: {avg_distance}\")"
   ]
  },
  {
   "cell_type": "code",
   "execution_count": 28,
   "metadata": {},
   "outputs": [
    {
     "name": "stdout",
     "output_type": "stream",
     "text": [
      "Combinations with replacement for n=64, r=42: 388212866177054207116394767200\n",
      "Combinations with replacement for n=64, r=300: 311394499632398271591993532000006491918850991174251883490285708155690256\n"
     ]
    },
    {
     "data": {
      "text/plain": [
       "8.021230792757368e+41"
      ]
     },
     "execution_count": 28,
     "metadata": {},
     "output_type": "execute_result"
    }
   ],
   "source": [
    "import math\n",
    "\n",
    "def combinations_with_replacement(n, r):\n",
    "    return math.comb(n + r - 1, r)\n",
    "\n",
    "# 1. n=8000, r=9\n",
    "n1, r1 = 64, 42\n",
    "result1 = combinations_with_replacement(n1, r1)\n",
    "print(f\"Combinations with replacement for n={n1}, r={r1}: {result1}\")\n",
    "\n",
    "# 2. n=8000, r=42\n",
    "n2, r2 = 64, 300\n",
    "result2 = combinations_with_replacement(n2, r2)\n",
    "print(f\"Combinations with replacement for n={n2}, r={r2}: {result2}\")\n",
    "result2/result1\n"
   ]
  },
  {
   "cell_type": "code",
   "execution_count": 3,
   "metadata": {},
   "outputs": [
    {
     "name": "stdout",
     "output_type": "stream",
     "text": [
      "/home/ubuntu/Sound2Synth/data/Synplant2_big/test/processed/sound_101876.pt: 155648 bytes\n"
     ]
    }
   ],
   "source": [
    "import os\n",
    "\n",
    "def get_file_sizes(folder_path):\n",
    "    file_sizes = {}\n",
    "    \n",
    "    for root, dirs, files in os.walk(folder_path):\n",
    "        for file in files:\n",
    "            file_path = os.path.join(root, file)\n",
    "            try:\n",
    "                file_size = os.path.getsize(file_path)\n",
    "                file_sizes[file_path] = file_size\n",
    "            except OSError as e:\n",
    "                print(f\"Error getting size of {file_path}: {e}\")\n",
    "\n",
    "    return file_sizes\n",
    "\n",
    "folder_path = '/home/ubuntu/Sound2Synth/data/Synplant2_big/test/processed'  # Replace with your folder path\n",
    "file_sizes = get_file_sizes(folder_path)\n",
    "\n",
    "for file_path, size in file_sizes.items():\n",
    "    if size == 155648:\n",
    "        print(f\"{file_path}: {size} bytes\")\n",
    "# print(set(file_sizes.values()))"
   ]
  },
  {
   "cell_type": "code",
   "execution_count": 4,
   "metadata": {},
   "outputs": [
    {
     "data": {
      "text/plain": [
       "ModuleParameter(name=midi_f0, value=tensor([0.4724]))"
      ]
     },
     "execution_count": 4,
     "metadata": {},
     "output_type": "execute_result"
    }
   ],
   "source": [
    "from dataset.chains import SimpleSynth\n",
    "from torchsynth.config import SynthConfig\n",
    "\n",
    "synth = SimpleSynth(SynthConfig(batch_size=1, sample_rate=48000, reproducible=False))\n",
    "synth.keyboard.torchparameters.midi_f0\n",
    "# print(synth.monophonic_keyboard.torchparameters.midi_f0)"
   ]
  },
  {
   "cell_type": "code",
   "execution_count": 10,
   "metadata": {},
   "outputs": [
    {
     "data": {
      "text/plain": [
       "tensor([0.4724, 0.8657, 0.1759, 0.2698, 0.0317, 0.1507, 0.9320, 0.6341, 0.4901,\n",
       "        0.4556, 0.8964, 0.3074, 0.2081, 0.7231, 0.9298, 0.2437, 0.0332, 0.5263,\n",
       "        0.7423, 0.5846, 0.6323, 0.4017, 0.3489, 0.2939, 0.6977, 0.1689, 0.0223,\n",
       "        0.5185, 0.8742, 0.3971, 0.9152, 0.8000, 0.2823, 0.6816, 0.1610, 0.3051,\n",
       "        0.3734, 0.1852, 0.4194, 0.9527, 0.0362, 0.5529, 0.0885, 0.1320])"
      ]
     },
     "execution_count": 10,
     "metadata": {},
     "output_type": "execute_result"
    }
   ],
   "source": [
    "torch.load('/home/ubuntu/Sound2Synth/data/Synplant2/train/processed/sound_0.pt')['label'][0]"
   ]
  },
  {
   "cell_type": "code",
   "execution_count": 3,
   "metadata": {},
   "outputs": [
    {
     "name": "stdout",
     "output_type": "stream",
     "text": [
      "[('keyboard', 'midi_f0'), ('keyboard', 'duration'), ('adsr_1', 'attack'), ('adsr_1', 'decay'), ('adsr_1', 'sustain'), ('adsr_1', 'release'), ('adsr_1', 'alpha'), ('adsr_2', 'attack'), ('adsr_2', 'decay'), ('adsr_2', 'sustain'), ('adsr_2', 'release'), ('adsr_2', 'alpha'), ('lfo_1', 'frequency'), ('lfo_1', 'mod_depth'), ('lfo_1', 'initial_phase'), ('lfo_1', 'sin'), ('lfo_1', 'tri'), ('lfo_1', 'saw'), ('lfo_1', 'rsaw'), ('lfo_1', 'sqr'), ('lfo_2', 'frequency'), ('lfo_2', 'mod_depth'), ('lfo_2', 'initial_phase'), ('lfo_2', 'sin'), ('lfo_2', 'tri'), ('lfo_2', 'saw'), ('lfo_2', 'rsaw'), ('lfo_2', 'sqr'), ('lfo_1_amp_adsr', 'attack'), ('lfo_1_amp_adsr', 'decay'), ('lfo_1_amp_adsr', 'sustain'), ('lfo_1_amp_adsr', 'release'), ('lfo_1_amp_adsr', 'alpha'), ('lfo_2_amp_adsr', 'attack'), ('lfo_2_amp_adsr', 'decay'), ('lfo_2_amp_adsr', 'sustain'), ('lfo_2_amp_adsr', 'release'), ('lfo_2_amp_adsr', 'alpha'), ('lfo_1_rate_adsr', 'attack'), ('lfo_1_rate_adsr', 'decay'), ('lfo_1_rate_adsr', 'sustain'), ('lfo_1_rate_adsr', 'release'), ('lfo_1_rate_adsr', 'alpha'), ('lfo_2_rate_adsr', 'attack'), ('lfo_2_rate_adsr', 'decay'), ('lfo_2_rate_adsr', 'sustain'), ('lfo_2_rate_adsr', 'release'), ('lfo_2_rate_adsr', 'alpha'), ('mod_matrix', 'adsr_1->vco_1_pitch'), ('mod_matrix', 'adsr_1->vco_1_amp'), ('mod_matrix', 'adsr_1->vco_2_pitch'), ('mod_matrix', 'adsr_1->vco_2_amp'), ('mod_matrix', 'adsr_1->noise_amp'), ('mod_matrix', 'adsr_2->vco_1_pitch'), ('mod_matrix', 'adsr_2->vco_1_amp'), ('mod_matrix', 'adsr_2->vco_2_pitch'), ('mod_matrix', 'adsr_2->vco_2_amp'), ('mod_matrix', 'adsr_2->noise_amp'), ('mod_matrix', 'lfo_1->vco_1_pitch'), ('mod_matrix', 'lfo_1->vco_1_amp'), ('mod_matrix', 'lfo_1->vco_2_pitch'), ('mod_matrix', 'lfo_1->vco_2_amp'), ('mod_matrix', 'lfo_1->noise_amp'), ('mod_matrix', 'lfo_2->vco_1_pitch'), ('mod_matrix', 'lfo_2->vco_1_amp'), ('mod_matrix', 'lfo_2->vco_2_pitch'), ('mod_matrix', 'lfo_2->vco_2_amp'), ('mod_matrix', 'lfo_2->noise_amp'), ('vco_1', 'tuning'), ('vco_1', 'mod_depth'), ('vco_1', 'initial_phase'), ('vco_2', 'tuning'), ('vco_2', 'mod_depth'), ('vco_2', 'initial_phase'), ('vco_2', 'shape'), ('mixer', 'vco_1'), ('mixer', 'vco_2'), ('mixer', 'noise')]\n"
     ]
    }
   ],
   "source": [
    "from dataset.chains import Voice\n",
    "from torchsynth.config import SynthConfig\n",
    "\n",
    "params = []\n",
    "synth = Voice(SynthConfig(batch_size=1, sample_rate=48000, reproducible=False))\n",
    "for k, v in synth.named_parameters():\n",
    "    k = k.split('.')\n",
    "    k = (k[0], k[-1])\n",
    "    params.append(k)\n",
    "# print(params)"
   ]
  },
  {
   "cell_type": "code",
   "execution_count": null,
   "metadata": {},
   "outputs": [],
   "source": [
    "output_dir = \"output_wavs\"\n",
    "    \n",
    "args = MemberDict(dict(\n",
    "    synth=\"TorchSynth\",\n",
    "    backbone=\"multimodal\",\n",
    "    classifier=\"parameter\",\n",
    "    dataset_type=\"my_multimodal\",\n",
    "    dataset=\"Synplant2\",\n",
    "    feature_dim=2048,\n",
    "))\n",
    "\n",
    "dataset = DATASET_MAPPING[args.dataset_type](dir=DATASET_PATHS[args.dataset], split='test')\n",
    "\n",
    "unnormalizer = {}\n",
    "synth = SimpleSynth(SynthConfig(batch_size=1, sample_rate=48000, reproducible=False))\n",
    "for k, v in synth.named_parameters():\n",
    "    k = k.split('.')\n",
    "    k = (k[0], k[-1])\n",
    "    unnormalizer[k] = v.parameter_range\n",
    "\n",
    "model = load_checkpoint(checkpoint_path, args)\n",
    "model.eval()\n",
    "\n",
    "dataloader = torch.utils.data.DataLoader(dataset, batch_size=1)\n",
    "\n",
    "for idx, batch in enumerate(dataloader):\n",
    "    if idx >= 50:  # Iterate through 5 samples\n",
    "        break\n",
    "    (features, sample_rate), label = batch\n",
    "\n",
    "    true_params = label[0]\n",
    "    parsed_true_params = parse_outputs(true_params, unnormalizer, logits=False, from_0to1=(true_params.max() <= 1).item())\n",
    "    ground_truth = dict_to_audio(parsed_true_params, synth)\n",
    "    \n",
    "    # Save ground truth and reconstructions as WAV files\n",
    "    save_wavs(ground_truth, output_dir, f\"ground_truth_{idx}\")\n",
    "    print(f\"Saved sample {idx}\")"
   ]
  },
  {
   "cell_type": "code",
   "execution_count": null,
   "metadata": {},
   "outputs": [],
   "source": [
    "from dataset.chains import SimpleSynth\n",
    "from torchsynth.config import SynthConfig\n",
    "\n",
    "unnormalizer = {}\n",
    "synth = SimpleSynth(SynthConfig(batch_size=1, sample_rate=48000, reproducible=False))\n",
    "for k, v in synth.named_parameters():\n",
    "    k = k.split('.')\n",
    "    k = (k[0], k[-1])\n",
    "    unnormalizer[k] = v.parameter_range\n",
    "unnormalizer\n",
    "# next(synth.named_parameters())"
   ]
  },
  {
   "cell_type": "code",
   "execution_count": 3,
   "metadata": {},
   "outputs": [
    {
     "data": {
      "text/plain": [
       "tensor([60.], grad_fn=<AddBackward0>)"
      ]
     },
     "execution_count": 3,
     "metadata": {},
     "output_type": "execute_result"
    }
   ],
   "source": [
    "from torchsynth.module import MonophonicKeyboard\n",
    "from torchsynth.config import SynthConfig\n",
    "import torch\n",
    "\n",
    "params = {\"midi_f0\": torch.tensor([60.0]), \"duration\": torch.tensor([3.0])}\n",
    "keyboard = MonophonicKeyboard(SynthConfig(batch_size=1, sample_rate=48000, reproducible=False), **params)\n",
    "\n",
    "keyboard.get_parameter(\"midi_f0\").from_0to1()"
   ]
  },
  {
   "cell_type": "code",
   "execution_count": 19,
   "metadata": {},
   "outputs": [
    {
     "data": {
      "text/plain": [
       "torch.Size([5, 44])"
      ]
     },
     "execution_count": 19,
     "metadata": {},
     "output_type": "execute_result"
    }
   ],
   "source": [
    "params = []\n",
    "for n in range(5):\n",
    "    data = torch.load(f'/home/ubuntu/Sound2Synth/data/Synplant2/train/unprocessed/sound_{n}.pt')\n",
    "    params.append(data['params'])\n",
    "torch.stack(params).shape"
   ]
  }
 ],
 "metadata": {
  "kernelspec": {
   "display_name": "sound2synth",
   "language": "python",
   "name": "python3"
  },
  "language_info": {
   "codemirror_mode": {
    "name": "ipython",
    "version": 3
   },
   "file_extension": ".py",
   "mimetype": "text/x-python",
   "name": "python",
   "nbconvert_exporter": "python",
   "pygments_lexer": "ipython3",
   "version": "3.9.19"
  }
 },
 "nbformat": 4,
 "nbformat_minor": 2
}
